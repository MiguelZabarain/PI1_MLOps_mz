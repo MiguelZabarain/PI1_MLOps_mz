{
 "cells": [
  {
   "cell_type": "markdown",
   "metadata": {},
   "source": [
    "# Modelo de Aprendizaje Automático usando Similitud del Coseno\n",
    "\n",
    "Para construir un modelo de recomendación de juegos utilizando similitud del coseno, es fundamental determinar qué características utilizar para calcular esa similitud. En este caso, luego de realizar la debida diligencia asociada al EDA del archivo de datos que será utilizado, se considera que las columnas que contienen información relevante para medir similitudes entre juegos son: 'genres', 'specs', 'developer' y 'id'. La columna 'id' podría ser útil para identificar de manera única cada juego y también para evitar que se recomiende el mismo juego que se está buscando.\n",
    "\n",
    "## Proceso o Flujo de trabajo \n",
    "\n",
    "El flujo de trabajo para el desarrollo del Modelo de Aprendizaje Automático en la modalidad de sistema de recomendación item-item se presenta a continuación. Este proceso define un sistema básico de recomendación de juegos usando similitud de coseno con TF-IDF (Term Frequency-Inverse Document Frequency) en texto. La lógica es combinar varias columnas relevantes en una sola columna de \"características combinadas\" y luego calcular la similitud de coseno entre los juegos basándose en esas características:\n",
    "\n",
    "1. Preparación de datos: Se combina información relevante de las columnas ('genres', 'specs', 'developer', 'id') en una columna llamada 'combined_features'. \n",
    "IMPORTANTE: En el contexto de un modelo de recomendación basado en similitud del coseno, no es común dividir los datos en conjuntos de entrenamiento y prueba, como se hace típicamente en el aprendizaje supervisado. Esto se debe a que el modelo de recomendación no está prediciendo una etiqueta o variable objetivo específica.  \n",
    "\n",
    "2. Vectorización TF-IDF: Se inicializa un vectorizador TF-IDF para convertir el texto en una representación numérica.\n",
    "Se aplica el vectorizador a la columna 'combined_features' para crear una matriz TF-IDF que representa las características de los juegos.\n",
    "\n",
    "3. Cálculo de similitud del coseno: Se calcula la similitud del coseno entre los juegos basándose en la matriz TF-IDF generada.\n",
    "\n",
    "4. Función de recomendación: Se define una función (recomendacion_juego) que toma el id de un juego como entrada y devuelve los 5 juegos más similares basados en la similitud del coseno.\n",
    "\n",
    "5. Obtener recomendaciones: Se llama a la función recomendacion_juego con el id de un juego específico para obtener recomendaciones de 5 juegos similares.\n"
   ]
  },
  {
   "cell_type": "markdown",
   "metadata": {},
   "source": [
    "## Implementación\n",
    "Se utilizará la librería de SciKit-learn de python para importar las clases TfidfVectorizer y cosine_similarity."
   ]
  },
  {
   "cell_type": "code",
   "execution_count": 17,
   "metadata": {},
   "outputs": [],
   "source": [
    "import pandas as pd\n",
    "from sklearn.feature_extraction.text import TfidfVectorizer\n",
    "from sklearn.metrics.pairwise import cosine_similarity\n",
    "\n",
    "# Carga el archivo Parquet 'Clean_output_steam_games.parquet' en DataFrame 'df2'\n",
    "df2 = pd.read_parquet('../Datasets/Clean_Parquet_Data_Steam/Clean_output_steam_games.parquet')\n",
    "\n",
    "# 1. Preparación de datos:\n",
    "# Combina columnas relevantes en una columna 'combined_features'\n",
    "df2['combined_features'] = df2['genres'] + ' ' + df2['specs'] + ' ' + df2['developer'] + ' ' + df2['id']\n",
    "\n",
    "# 2. Vectorización TF-IDF:\n",
    "# Inicializa el vectorizador TF-IDF\n",
    "tfidf_vectorizer = TfidfVectorizer()\n",
    "# Transforma la columna 'combined_features' en una matriz TF-IDF\n",
    "tfidf_matrix = tfidf_vectorizer.fit_transform(df2['combined_features'])\n",
    "\n",
    "# 3. Cálculo de similitud del coseno:\n",
    "# Calcula la similitud del coseno entre juegos\n",
    "cosine_sim = cosine_similarity(tfidf_matrix, tfidf_matrix)\n"
   ]
  },
  {
   "cell_type": "code",
   "execution_count": 21,
   "metadata": {},
   "outputs": [
    {
     "data": {
      "text/plain": [
       "[{'504350': 'RoShamBo: Starter Fighter Pack'},\n",
       " {'321400': 'Supraball'},\n",
       " {'393930': 'RoShamBo'},\n",
       " {'583740': 'AVATARIKA'},\n",
       " {'522660': 'Snooker-online multiplayer snooker game!'}]"
      ]
     },
     "execution_count": 21,
     "metadata": {},
     "output_type": "execute_result"
    }
   ],
   "source": [
    "# 4. Función de recomendación:\n",
    "# Función para obtener recomendaciones\n",
    "def recomendacion_juego(id):\n",
    "    # Obtiene el índice del id de juego proporcionado\n",
    "    idx = df2[df2['id'] == id].index[0]\n",
    "    \n",
    "    # Obtiene las puntuaciones de similitud del juego en cuestión con otros juegos\n",
    "    sim_scores = list(enumerate(cosine_sim[idx]))\n",
    "    \n",
    "    # Ordena los juegos según las puntuaciones de similitud\n",
    "    sim_scores = sorted(sim_scores, key=lambda x: x[1], reverse=True)\n",
    "    \n",
    "    # Obtiene los índices de los juegos más similares (excluyendo el propio juego)\n",
    "    similar_games_indices = [i[0] for i in sim_scores[1:6]]  # Recomendar los 5 juegos más similares\n",
    "    \n",
    "    # Devuelve los nombres de los juegos recomendados\n",
    "    #return df2['app_name'].iloc[similar_games_indices]\n",
    "\n",
    "    # Crea una lista de diccionarios con 'id' como clave y 'app_name' como valor\n",
    "    recommended_games = [{df2['id'].iloc[ind] : df2['app_name'].iloc[ind]} for ind in similar_games_indices]\n",
    "\n",
    "    return recommended_games\n",
    "\n",
    "# 5. Obtener recomendaciones:\n",
    "# Obtiene recomendaciones para un juego específico (cambia 'id' por el del juego que desees)\n",
    "recommended_games = recomendacion_juego('670290')\n",
    "recommended_games"
   ]
  }
 ],
 "metadata": {
  "kernelspec": {
   "display_name": "venv",
   "language": "python",
   "name": "python3"
  },
  "language_info": {
   "codemirror_mode": {
    "name": "ipython",
    "version": 3
   },
   "file_extension": ".py",
   "mimetype": "text/x-python",
   "name": "python",
   "nbconvert_exporter": "python",
   "pygments_lexer": "ipython3",
   "version": "3.11.5"
  }
 },
 "nbformat": 4,
 "nbformat_minor": 2
}
